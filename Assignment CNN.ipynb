{
 "cells": [
  {
   "cell_type": "code",
   "execution_count": 1,
   "metadata": {},
   "outputs": [],
   "source": [
    "from tensorflow.keras.models import Sequential\n",
    "from tensorflow.keras.layers import Dense\n",
    "from tensorflow.keras.layers import Convolution2D\n",
    "from tensorflow.keras.layers import MaxPooling2D\n",
    "from tensorflow.keras.layers import Flatten"
   ]
  },
  {
   "cell_type": "code",
   "execution_count": 2,
   "metadata": {},
   "outputs": [
    {
     "name": "stderr",
     "output_type": "stream",
     "text": [
      "Using TensorFlow backend.\n"
     ]
    }
   ],
   "source": [
    "from keras.preprocessing.image import ImageDataGenerator\n",
    "train_datagen=ImageDataGenerator(rescale=1./255,shear_range=0.2,zoom_range=0.2,horizontal_flip=True)\n",
    "test_datagen=ImageDataGenerator(rescale=1./255)"
   ]
  },
  {
   "cell_type": "code",
   "execution_count": 3,
   "metadata": {},
   "outputs": [
    {
     "name": "stdout",
     "output_type": "stream",
     "text": [
      "Found 622 images belonging to 5 classes.\n",
      "Found 622 images belonging to 5 classes.\n"
     ]
    }
   ],
   "source": [
    "x_train=train_datagen.flow_from_directory(r\"C:\\Users\\shank\\Downloads\\Telegram Desktop\\object data\\trainset\",target_size=(64,64),batch_size=32,class_mode=\"categorical\")\n",
    "x_test=train_datagen.flow_from_directory(r\"C:\\Users\\shank\\Downloads\\Telegram Desktop\\object data\\testset\",target_size=(64,64),batch_size=32,class_mode=\"categorical\")"
   ]
  },
  {
   "cell_type": "code",
   "execution_count": 7,
   "metadata": {},
   "outputs": [],
   "source": [
    "model=Sequential()"
   ]
  },
  {
   "cell_type": "code",
   "execution_count": 8,
   "metadata": {},
   "outputs": [
    {
     "name": "stdout",
     "output_type": "stream",
     "text": [
      "WARNING:tensorflow:From C:\\Users\\shank\\Anaconda3\\lib\\site-packages\\tensorflow\\python\\ops\\init_ops.py:1251: calling VarianceScaling.__init__ (from tensorflow.python.ops.init_ops) with dtype is deprecated and will be removed in a future version.\n",
      "Instructions for updating:\n",
      "Call initializer instance with the dtype argument instead of passing it to the constructor\n"
     ]
    }
   ],
   "source": [
    "model.add(Convolution2D(32,(3,3),input_shape=(64,64,3),activation=\"relu\"))"
   ]
  },
  {
   "cell_type": "code",
   "execution_count": 9,
   "metadata": {},
   "outputs": [],
   "source": [
    "model.add(MaxPooling2D(2,2))"
   ]
  },
  {
   "cell_type": "code",
   "execution_count": 10,
   "metadata": {},
   "outputs": [],
   "source": [
    "model.add(Flatten())"
   ]
  },
  {
   "cell_type": "code",
   "execution_count": 11,
   "metadata": {},
   "outputs": [
    {
     "name": "stdout",
     "output_type": "stream",
     "text": [
      "WARNING:tensorflow:From C:\\Users\\shank\\Anaconda3\\lib\\site-packages\\tensorflow\\python\\keras\\initializers.py:119: calling RandomUniform.__init__ (from tensorflow.python.ops.init_ops) with dtype is deprecated and will be removed in a future version.\n",
      "Instructions for updating:\n",
      "Call initializer instance with the dtype argument instead of passing it to the constructor\n"
     ]
    }
   ],
   "source": [
    "model.add(Dense(units=512,activation=\"relu\",kernel_initializer=\"random_uniform\"))"
   ]
  },
  {
   "cell_type": "code",
   "execution_count": 12,
   "metadata": {},
   "outputs": [],
   "source": [
    "model.add(Dense(units=5,activation=\"softmax\",kernel_initializer=\"random_uniform\"))"
   ]
  },
  {
   "cell_type": "code",
   "execution_count": 13,
   "metadata": {},
   "outputs": [],
   "source": [
    "model.compile(\"sgd\",loss=\"categorical_crossentropy\",metrics=[\"accuracy\"])"
   ]
  },
  {
   "cell_type": "code",
   "execution_count": 17,
   "metadata": {},
   "outputs": [
    {
     "name": "stdout",
     "output_type": "stream",
     "text": [
      "Epoch 1/80\n",
      "19/19 [==============================] - 24s 1s/step - loss: 1.0184 - acc: 0.5966 - val_loss: 0.9736 - val_acc: 0.6612\n",
      "Epoch 2/80\n",
      "19/19 [==============================] - 5s 272ms/step - loss: 1.0001 - acc: 0.6136 - val_loss: 0.9838 - val_acc: 0.5970\n",
      "Epoch 3/80\n",
      "19/19 [==============================] - 5s 271ms/step - loss: 1.0147 - acc: 0.6051 - val_loss: 1.0478 - val_acc: 0.5740\n",
      "Epoch 4/80\n",
      "19/19 [==============================] - 5s 275ms/step - loss: 1.0102 - acc: 0.6068 - val_loss: 1.0152 - val_acc: 0.6003\n",
      "Epoch 5/80\n",
      "19/19 [==============================] - 5s 273ms/step - loss: 0.9813 - acc: 0.6220 - val_loss: 0.9497 - val_acc: 0.6151\n",
      "Epoch 6/80\n",
      "19/19 [==============================] - 5s 276ms/step - loss: 0.9794 - acc: 0.6119 - val_loss: 0.9725 - val_acc: 0.6365\n",
      "Epoch 7/80\n",
      "19/19 [==============================] - 5s 262ms/step - loss: 0.9310 - acc: 0.6217 - val_loss: 0.9319 - val_acc: 0.6464\n",
      "Epoch 8/80\n",
      "19/19 [==============================] - 5s 271ms/step - loss: 0.9887 - acc: 0.6171 - val_loss: 0.9018 - val_acc: 0.6924\n",
      "Epoch 9/80\n",
      "19/19 [==============================] - 5s 267ms/step - loss: 0.9394 - acc: 0.6530 - val_loss: 1.0505 - val_acc: 0.5839\n",
      "Epoch 10/80\n",
      "19/19 [==============================] - 5s 262ms/step - loss: 0.9604 - acc: 0.6259 - val_loss: 0.9386 - val_acc: 0.6184\n",
      "Epoch 11/80\n",
      "19/19 [==============================] - 5s 260ms/step - loss: 0.9094 - acc: 0.6530 - val_loss: 1.0293 - val_acc: 0.5757\n",
      "Epoch 12/80\n",
      "19/19 [==============================] - 5s 265ms/step - loss: 0.9829 - acc: 0.6136 - val_loss: 0.8744 - val_acc: 0.6974\n",
      "Epoch 13/80\n",
      "19/19 [==============================] - 5s 257ms/step - loss: 0.9071 - acc: 0.6678 - val_loss: 0.8542 - val_acc: 0.6924\n",
      "Epoch 14/80\n",
      "19/19 [==============================] - 5s 258ms/step - loss: 0.8571 - acc: 0.6908 - val_loss: 0.8764 - val_acc: 0.6974\n",
      "Epoch 15/80\n",
      "19/19 [==============================] - 5s 260ms/step - loss: 0.9234 - acc: 0.6559 - val_loss: 0.8330 - val_acc: 0.6711\n",
      "Epoch 16/80\n",
      "19/19 [==============================] - 5s 257ms/step - loss: 0.8806 - acc: 0.6521 - val_loss: 0.8523 - val_acc: 0.6908\n",
      "Epoch 17/80\n",
      "19/19 [==============================] - 5s 251ms/step - loss: 0.9095 - acc: 0.6480 - val_loss: 0.8964 - val_acc: 0.6612\n",
      "Epoch 18/80\n",
      "19/19 [==============================] - 5s 260ms/step - loss: 0.8845 - acc: 0.6888 - val_loss: 0.9100 - val_acc: 0.6727\n",
      "Epoch 19/80\n",
      "19/19 [==============================] - 5s 268ms/step - loss: 0.9016 - acc: 0.6447 - val_loss: 0.8228 - val_acc: 0.7204\n",
      "Epoch 20/80\n",
      "19/19 [==============================] - 5s 253ms/step - loss: 0.8432 - acc: 0.6814 - val_loss: 0.8139 - val_acc: 0.7056\n",
      "Epoch 21/80\n",
      "19/19 [==============================] - 5s 253ms/step - loss: 0.9178 - acc: 0.6542 - val_loss: 0.8186 - val_acc: 0.7155\n",
      "Epoch 22/80\n",
      "19/19 [==============================] - 5s 280ms/step - loss: 0.8525 - acc: 0.6712 - val_loss: 0.8387 - val_acc: 0.6464\n",
      "Epoch 23/80\n",
      "19/19 [==============================] - 5s 275ms/step - loss: 0.8351 - acc: 0.6966 - val_loss: 0.7930 - val_acc: 0.7155\n",
      "Epoch 24/80\n",
      "19/19 [==============================] - 5s 276ms/step - loss: 0.8171 - acc: 0.7000 - val_loss: 0.8544 - val_acc: 0.6546\n",
      "Epoch 25/80\n",
      "19/19 [==============================] - 5s 266ms/step - loss: 0.7918 - acc: 0.7169 - val_loss: 0.7568 - val_acc: 0.7237\n",
      "Epoch 26/80\n",
      "19/19 [==============================] - 5s 271ms/step - loss: 0.8301 - acc: 0.6859 - val_loss: 0.7924 - val_acc: 0.6974\n",
      "Epoch 27/80\n",
      "19/19 [==============================] - 5s 276ms/step - loss: 0.7796 - acc: 0.7136 - val_loss: 0.7692 - val_acc: 0.7171\n",
      "Epoch 28/80\n",
      "19/19 [==============================] - 5s 265ms/step - loss: 0.8129 - acc: 0.6906 - val_loss: 0.8991 - val_acc: 0.6299\n",
      "Epoch 29/80\n",
      "19/19 [==============================] - 5s 272ms/step - loss: 0.7501 - acc: 0.7072 - val_loss: 0.8123 - val_acc: 0.6859\n",
      "Epoch 30/80\n",
      "19/19 [==============================] - 5s 279ms/step - loss: 0.7669 - acc: 0.7305 - val_loss: 0.8636 - val_acc: 0.6694\n",
      "Epoch 31/80\n",
      "19/19 [==============================] - 5s 280ms/step - loss: 0.7952 - acc: 0.7051 - val_loss: 0.7353 - val_acc: 0.7286\n",
      "Epoch 32/80\n",
      "19/19 [==============================] - 9s 472ms/step - loss: 0.7562 - acc: 0.7339 - val_loss: 0.7510 - val_acc: 0.7105\n",
      "Epoch 33/80\n",
      "19/19 [==============================] - 5s 276ms/step - loss: 0.7585 - acc: 0.7271 - val_loss: 0.7317 - val_acc: 0.7418\n",
      "Epoch 34/80\n",
      "19/19 [==============================] - 5s 262ms/step - loss: 0.7500 - acc: 0.7185 - val_loss: 0.6862 - val_acc: 0.7780\n",
      "Epoch 35/80\n",
      "19/19 [==============================] - 5s 257ms/step - loss: 0.7149 - acc: 0.7451 - val_loss: 0.8479 - val_acc: 0.6760\n",
      "Epoch 36/80\n",
      "19/19 [==============================] - 5s 265ms/step - loss: 0.7519 - acc: 0.7373 - val_loss: 0.6847 - val_acc: 0.7549\n",
      "Epoch 37/80\n",
      "19/19 [==============================] - 5s 252ms/step - loss: 0.7540 - acc: 0.7220 - val_loss: 0.6800 - val_acc: 0.7632\n",
      "Epoch 38/80\n",
      "19/19 [==============================] - 5s 250ms/step - loss: 0.6662 - acc: 0.7610 - val_loss: 0.7331 - val_acc: 0.7155\n",
      "Epoch 39/80\n",
      "19/19 [==============================] - 5s 259ms/step - loss: 0.7262 - acc: 0.7237 - val_loss: 0.6592 - val_acc: 0.7664\n",
      "Epoch 40/80\n",
      "19/19 [==============================] - 5s 255ms/step - loss: 0.7032 - acc: 0.7475 - val_loss: 0.7302 - val_acc: 0.7237\n",
      "Epoch 41/80\n",
      "19/19 [==============================] - 5s 241ms/step - loss: 0.6884 - acc: 0.7559 - val_loss: 0.6616 - val_acc: 0.7648\n",
      "Epoch 42/80\n",
      "19/19 [==============================] - 5s 265ms/step - loss: 0.7157 - acc: 0.7373 - val_loss: 0.6606 - val_acc: 0.7730\n",
      "Epoch 43/80\n",
      "19/19 [==============================] - 5s 278ms/step - loss: 0.6589 - acc: 0.7648 - val_loss: 0.6050 - val_acc: 0.7977\n",
      "Epoch 44/80\n",
      "19/19 [==============================] - 5s 269ms/step - loss: 0.6385 - acc: 0.7850 - val_loss: 0.6946 - val_acc: 0.7434\n",
      "Epoch 45/80\n",
      "19/19 [==============================] - 5s 275ms/step - loss: 0.6468 - acc: 0.7627 - val_loss: 0.6200 - val_acc: 0.7878\n",
      "Epoch 46/80\n",
      "19/19 [==============================] - 5s 272ms/step - loss: 0.6506 - acc: 0.7695 - val_loss: 0.6135 - val_acc: 0.7747\n",
      "Epoch 47/80\n",
      "19/19 [==============================] - 5s 276ms/step - loss: 0.6580 - acc: 0.7627 - val_loss: 0.6821 - val_acc: 0.7286\n",
      "Epoch 48/80\n",
      "19/19 [==============================] - 5s 272ms/step - loss: 0.6302 - acc: 0.7780 - val_loss: 0.6506 - val_acc: 0.7500\n",
      "Epoch 49/80\n",
      "19/19 [==============================] - 5s 261ms/step - loss: 0.6744 - acc: 0.7448 - val_loss: 0.6140 - val_acc: 0.7895\n",
      "Epoch 50/80\n",
      "19/19 [==============================] - 5s 279ms/step - loss: 0.6376 - acc: 0.7644 - val_loss: 0.6139 - val_acc: 0.7599\n",
      "Epoch 51/80\n",
      "19/19 [==============================] - 5s 283ms/step - loss: 0.6325 - acc: 0.7797 - val_loss: 0.6235 - val_acc: 0.7615\n",
      "Epoch 52/80\n",
      "19/19 [==============================] - 5s 262ms/step - loss: 0.5957 - acc: 0.7763 - val_loss: 0.6078 - val_acc: 0.8043\n",
      "Epoch 53/80\n",
      "19/19 [==============================] - 5s 256ms/step - loss: 0.6542 - acc: 0.7678 - val_loss: 0.5370 - val_acc: 0.8388\n",
      "Epoch 54/80\n",
      "19/19 [==============================] - 5s 255ms/step - loss: 0.5517 - acc: 0.8306 - val_loss: 0.5709 - val_acc: 0.7911\n",
      "Epoch 55/80\n",
      "19/19 [==============================] - 5s 257ms/step - loss: 0.6417 - acc: 0.7692 - val_loss: 0.5748 - val_acc: 0.8010\n",
      "Epoch 56/80\n",
      "19/19 [==============================] - 5s 284ms/step - loss: 0.5727 - acc: 0.7977 - val_loss: 0.5475 - val_acc: 0.8191\n",
      "Epoch 57/80\n",
      "19/19 [==============================] - 5s 277ms/step - loss: 0.5653 - acc: 0.7949 - val_loss: 0.5177 - val_acc: 0.8207\n",
      "Epoch 58/80\n",
      "19/19 [==============================] - 5s 265ms/step - loss: 0.6001 - acc: 0.7797 - val_loss: 0.5092 - val_acc: 0.8553\n",
      "Epoch 59/80\n",
      "19/19 [==============================] - 5s 256ms/step - loss: 0.5671 - acc: 0.8136 - val_loss: 0.5579 - val_acc: 0.8257\n",
      "Epoch 60/80\n",
      "19/19 [==============================] - 5s 261ms/step - loss: 0.5937 - acc: 0.8017 - val_loss: 0.5171 - val_acc: 0.8355\n",
      "Epoch 61/80\n",
      "19/19 [==============================] - 5s 251ms/step - loss: 0.5135 - acc: 0.8305 - val_loss: 0.5654 - val_acc: 0.7747\n",
      "Epoch 62/80\n",
      "19/19 [==============================] - 5s 267ms/step - loss: 0.6018 - acc: 0.7814 - val_loss: 0.5534 - val_acc: 0.8141\n"
     ]
    },
    {
     "name": "stdout",
     "output_type": "stream",
     "text": [
      "Epoch 63/80\n",
      "19/19 [==============================] - 5s 275ms/step - loss: 0.5657 - acc: 0.8169 - val_loss: 0.5223 - val_acc: 0.8207\n",
      "Epoch 64/80\n",
      "19/19 [==============================] - 5s 273ms/step - loss: 0.5559 - acc: 0.7944 - val_loss: 0.5081 - val_acc: 0.8207\n",
      "Epoch 65/80\n",
      "19/19 [==============================] - 5s 270ms/step - loss: 0.5466 - acc: 0.8000 - val_loss: 0.5263 - val_acc: 0.8174\n",
      "Epoch 66/80\n",
      "19/19 [==============================] - 5s 279ms/step - loss: 0.5071 - acc: 0.8339 - val_loss: 0.5682 - val_acc: 0.7697\n",
      "Epoch 67/80\n",
      "19/19 [==============================] - 5s 281ms/step - loss: 0.5057 - acc: 0.8287 - val_loss: 0.5075 - val_acc: 0.8322\n",
      "Epoch 68/80\n",
      "19/19 [==============================] - 5s 270ms/step - loss: 0.5547 - acc: 0.7961 - val_loss: 0.4796 - val_acc: 0.8388\n",
      "Epoch 69/80\n",
      "19/19 [==============================] - 5s 275ms/step - loss: 0.5032 - acc: 0.8271 - val_loss: 0.4937 - val_acc: 0.8322\n",
      "Epoch 70/80\n",
      "19/19 [==============================] - 5s 261ms/step - loss: 0.4939 - acc: 0.8220 - val_loss: 0.5182 - val_acc: 0.8224\n",
      "Epoch 71/80\n",
      "19/19 [==============================] - 5s 266ms/step - loss: 0.4840 - acc: 0.8357 - val_loss: 0.5106 - val_acc: 0.8240\n",
      "Epoch 72/80\n",
      "19/19 [==============================] - 5s 268ms/step - loss: 0.5270 - acc: 0.8273 - val_loss: 0.5888 - val_acc: 0.7780\n",
      "Epoch 73/80\n",
      "19/19 [==============================] - 5s 254ms/step - loss: 0.4666 - acc: 0.8339 - val_loss: 0.4150 - val_acc: 0.8750\n",
      "Epoch 74/80\n",
      "19/19 [==============================] - 5s 275ms/step - loss: 0.4939 - acc: 0.8305 - val_loss: 0.4305 - val_acc: 0.8783\n",
      "Epoch 75/80\n",
      "19/19 [==============================] - 5s 285ms/step - loss: 0.4594 - acc: 0.8305 - val_loss: 0.4387 - val_acc: 0.8569\n",
      "Epoch 76/80\n",
      "19/19 [==============================] - 5s 266ms/step - loss: 0.4873 - acc: 0.8390 - val_loss: 0.4233 - val_acc: 0.8865\n",
      "Epoch 77/80\n",
      "19/19 [==============================] - 5s 275ms/step - loss: 0.4417 - acc: 0.8475 - val_loss: 0.4784 - val_acc: 0.8191\n",
      "Epoch 78/80\n",
      "19/19 [==============================] - 5s 269ms/step - loss: 0.4455 - acc: 0.8508 - val_loss: 0.5114 - val_acc: 0.7895\n",
      "Epoch 79/80\n",
      "19/19 [==============================] - 5s 272ms/step - loss: 0.4423 - acc: 0.8695 - val_loss: 0.4165 - val_acc: 0.8602\n",
      "Epoch 80/80\n",
      "19/19 [==============================] - 5s 260ms/step - loss: 0.4175 - acc: 0.8542 - val_loss: 0.4694 - val_acc: 0.8306\n"
     ]
    },
    {
     "data": {
      "text/plain": [
       "<tensorflow.python.keras.callbacks.History at 0x1608e175198>"
      ]
     },
     "execution_count": 17,
     "metadata": {},
     "output_type": "execute_result"
    }
   ],
   "source": [
    "model.fit_generator(x_train,steps_per_epoch=19,epochs=80,validation_data=x_test,validation_steps=19)"
   ]
  },
  {
   "cell_type": "code",
   "execution_count": 18,
   "metadata": {},
   "outputs": [],
   "source": [
    "from tensorflow.keras.models import load_model\n",
    "from tensorflow.keras.preprocessing import image\n",
    "import cv2\n",
    "import numpy as np"
   ]
  },
  {
   "cell_type": "code",
   "execution_count": 19,
   "metadata": {},
   "outputs": [],
   "source": [
    "index=[\"chair\",\"glass\",\"pen\",\"spoon\",\"umbrella\"]"
   ]
  },
  {
   "cell_type": "code",
   "execution_count": 33,
   "metadata": {},
   "outputs": [],
   "source": [
    "img=image.load_img(r\"D:\\Externship\\glass.jpg\",target_size=(64,64))"
   ]
  },
  {
   "cell_type": "code",
   "execution_count": 34,
   "metadata": {},
   "outputs": [
    {
     "data": {
      "text/plain": [
       "PIL.Image.Image"
      ]
     },
     "execution_count": 34,
     "metadata": {},
     "output_type": "execute_result"
    }
   ],
   "source": [
    "type(img)"
   ]
  },
  {
   "cell_type": "code",
   "execution_count": 35,
   "metadata": {},
   "outputs": [],
   "source": [
    "x=image.img_to_array(img)"
   ]
  },
  {
   "cell_type": "code",
   "execution_count": 36,
   "metadata": {},
   "outputs": [
    {
     "data": {
      "text/plain": [
       "numpy.ndarray"
      ]
     },
     "execution_count": 36,
     "metadata": {},
     "output_type": "execute_result"
    }
   ],
   "source": [
    "type(x)"
   ]
  },
  {
   "cell_type": "code",
   "execution_count": 37,
   "metadata": {},
   "outputs": [
    {
     "data": {
      "text/plain": [
       "(64, 64, 3)"
      ]
     },
     "execution_count": 37,
     "metadata": {},
     "output_type": "execute_result"
    }
   ],
   "source": [
    "x.shape"
   ]
  },
  {
   "cell_type": "code",
   "execution_count": 38,
   "metadata": {},
   "outputs": [],
   "source": [
    "x=np.expand_dims(x,axis=0)"
   ]
  },
  {
   "cell_type": "code",
   "execution_count": 39,
   "metadata": {},
   "outputs": [
    {
     "data": {
      "text/plain": [
       "(1, 64, 64, 3)"
      ]
     },
     "execution_count": 39,
     "metadata": {},
     "output_type": "execute_result"
    }
   ],
   "source": [
    "x.shape"
   ]
  },
  {
   "cell_type": "code",
   "execution_count": 40,
   "metadata": {},
   "outputs": [],
   "source": [
    "pred=model.predict_classes(x)"
   ]
  },
  {
   "cell_type": "code",
   "execution_count": 41,
   "metadata": {},
   "outputs": [
    {
     "data": {
      "text/plain": [
       "array([1], dtype=int64)"
      ]
     },
     "execution_count": 41,
     "metadata": {},
     "output_type": "execute_result"
    }
   ],
   "source": [
    "pred"
   ]
  },
  {
   "cell_type": "code",
   "execution_count": 43,
   "metadata": {},
   "outputs": [
    {
     "name": "stdout",
     "output_type": "stream",
     "text": [
      "glass\n"
     ]
    }
   ],
   "source": [
    "print(index[1])"
   ]
  },
  {
   "cell_type": "code",
   "execution_count": null,
   "metadata": {},
   "outputs": [],
   "source": []
  }
 ],
 "metadata": {
  "kernelspec": {
   "display_name": "Python 3",
   "language": "python",
   "name": "python3"
  },
  "language_info": {
   "codemirror_mode": {
    "name": "ipython",
    "version": 3
   },
   "file_extension": ".py",
   "mimetype": "text/x-python",
   "name": "python",
   "nbconvert_exporter": "python",
   "pygments_lexer": "ipython3",
   "version": "3.7.3"
  }
 },
 "nbformat": 4,
 "nbformat_minor": 2
}
